{
  "nbformat": 4,
  "nbformat_minor": 0,
  "metadata": {
    "kernelspec": {
      "display_name": "Python 3",
      "language": "python",
      "name": "python3"
    },
    "language_info": {
      "codemirror_mode": {
        "name": "ipython",
        "version": 3
      },
      "file_extension": ".py",
      "mimetype": "text/x-python",
      "name": "python",
      "nbconvert_exporter": "python",
      "pygments_lexer": "ipython3",
      "version": "3.8.8"
    },
    "colab": {
      "name": "ML Pipeline Preparation.ipynb",
      "provenance": []
    },
    "accelerator": "GPU"
  },
  "cells": [
    {
      "cell_type": "markdown",
      "metadata": {
        "id": "ZrTW7nDwqASl"
      },
      "source": [
        "# ML Pipeline Preparation\n",
        "Follow the instructions below to help you create your ML pipeline.\n",
        "### 1. Import libraries and load data from database.\n",
        "- Import Python libraries\n",
        "- Load dataset from database with [`read_sql_table`](https://pandas.pydata.org/pandas-docs/stable/generated/pandas.read_sql_table.html)\n",
        "- Define feature and target variables X and Y"
      ]
    },
    {
      "cell_type": "code",
      "metadata": {
        "id": "mR9Wgw8lqASo",
        "outputId": "3fd3e52c-1b27-4f85-d71e-354c0ee8b5c4",
        "colab": {
          "base_uri": "https://localhost:8080/"
        }
      },
      "source": [
        "# import libraries\n",
        "from sqlalchemy import create_engine\n",
        "import pandas as pd\n",
        "import re\n",
        "import numpy as np\n",
        "# nltk\n",
        "import nltk\n",
        "nltk.download('stopwords')\n",
        "nltk.download('wordnet') # download for lemmatization\n",
        "nltk.download('punkt')\n",
        "from nltk.corpus import stopwords\n",
        "from nltk.stem.porter import PorterStemmer\n",
        "from nltk.stem.wordnet import WordNetLemmatizer\n",
        "from nltk.tokenize import word_tokenize\n",
        "# sklearn\n",
        "from sklearn.ensemble import RandomForestClassifier\n",
        "from sklearn.pipeline import Pipeline, FeatureUnion\n",
        "# from sklearn.base import BaseEstimator, TransformerMixin\n",
        "from sklearn.feature_extraction.text import CountVectorizer, TfidfTransformer\n",
        "from sklearn.multioutput import MultiOutputClassifier\n",
        "from sklearn.model_selection import train_test_split\n",
        "# from sklearn.metrics import confusion_matrix\n",
        "from sklearn.model_selection import GridSearchCV\n",
        "from sklearn.metrics import classification_report\n",
        "# other models\n",
        "from sklearn.neighbors import KNeighborsClassifier\n",
        "from sklearn.tree import DecisionTreeClassifier\n",
        "# pickle\n",
        "import pickle"
      ],
      "execution_count": 36,
      "outputs": [
        {
          "output_type": "stream",
          "text": [
            "[nltk_data] Downloading package stopwords to /root/nltk_data...\n",
            "[nltk_data]   Package stopwords is already up-to-date!\n",
            "[nltk_data] Downloading package wordnet to /root/nltk_data...\n",
            "[nltk_data]   Package wordnet is already up-to-date!\n",
            "[nltk_data] Downloading package punkt to /root/nltk_data...\n",
            "[nltk_data]   Package punkt is already up-to-date!\n"
          ],
          "name": "stdout"
        }
      ]
    },
    {
      "cell_type": "code",
      "metadata": {
        "id": "u-KUTc1kqASq"
      },
      "source": [
        "# load data from database\n",
        "engine = create_engine('sqlite:///DisasterData.db')\n",
        "df = pd.read_sql_table('TextMessages', engine)\n",
        "X = df[[\"message\", \"original\", \"genre\"]]\n",
        "Y = df.drop(columns= [\"id\", \"message\", \"original\", \"genre\"])"
      ],
      "execution_count": 2,
      "outputs": []
    },
    {
      "cell_type": "markdown",
      "metadata": {
        "id": "0DBmXCwbqASr"
      },
      "source": [
        "### 2. Write a tokenization function to process your text data"
      ]
    },
    {
      "cell_type": "code",
      "metadata": {
        "id": "Xfgvt4eLqASr"
      },
      "source": [
        "def tokenize(text):\n",
        "    # Normalization\n",
        "    \n",
        "    # Convert to lower case\n",
        "    text = text.lower()\n",
        "    \n",
        "    # Remove punctuation characters - this regex finds everything which is not a combination of letters\n",
        "    # and numbers and replaces it with a whitespace\n",
        "    text = re.sub(r\"[^a-zA-Z0-9]\", \" \", text)\n",
        "    \n",
        "    \n",
        "    # Tokenization\n",
        "    \n",
        "    # Split into tokens\n",
        "    words = word_tokenize(text)\n",
        "    \n",
        "    \n",
        "    # Remove stopwords\n",
        "    words = [w for w in words if w not in stopwords.words(\"english\")]\n",
        "    \n",
        "    # Part-of-speech tagging maybe useful here?\n",
        "    # Named Entity Recognition usefuk here?\n",
        "    \n",
        "    # Stemming - only keep the stem of a word, simple find and replace method which removes f.e. \"ing\"\n",
        "    # stemmed = [PorterStemmer().stem(w) for w in words]\n",
        "    \n",
        "    # Lemmatization - more complex appraoch using dictionaries which can f.e. map \"is\" and \"was\" to \"be\"\n",
        "    # Lemmatize verbs by specifying pos\n",
        "    lemmed_verbs = [WordNetLemmatizer().lemmatize(w, pos='v') for w in words]\n",
        "    # Reduce nouns to their root form\n",
        "    lemmed_nouns = [WordNetLemmatizer().lemmatize(w) for w in lemmed_verbs]\n",
        "    return lemmed_nouns"
      ],
      "execution_count": 3,
      "outputs": []
    },
    {
      "cell_type": "code",
      "metadata": {
        "id": "5LpueGxsqyc_"
      },
      "source": [
        "# Split the data in training and testing datasets\n",
        "X_train, X_test, y_train, y_test = train_test_split(X, Y, train_size = 0.05) # We drastically decrease the train_size to allow our GridSearch to run in a feasible amount of time"
      ],
      "execution_count": 4,
      "outputs": []
    },
    {
      "cell_type": "code",
      "metadata": {
        "id": "Yv1xIlnArACF"
      },
      "source": [
        "# Calculate the average accuracy for each target column\n",
        "def print_acc(name, model, y_test, y_pred):\n",
        "    columns = y_test.columns\n",
        "    y_pred_df = pd.DataFrame(y_pred, columns = columns)\n",
        "    accuracy = (y_pred_df == y_test.reset_index().drop([\"index\"], axis = 1)).mean()\n",
        "    print(f\"Accuracy per category {name}: \")\n",
        "    print(f\"Average accuracy: {accuracy.mean()}\")\n",
        "    print(accuracy)\n",
        "    return {'name' : name, 'model': model, 'accuracy' : accuracy}"
      ],
      "execution_count": 5,
      "outputs": []
    },
    {
      "cell_type": "code",
      "metadata": {
        "id": "oYa2dVCeOljw"
      },
      "source": [
        "# Create an empty array to store all the results and the models to find the best one in the end\n",
        "results = []"
      ],
      "execution_count": 6,
      "outputs": []
    },
    {
      "cell_type": "markdown",
      "metadata": {
        "id": "u_6GvgH5qASs"
      },
      "source": [
        "# Native model without optimization (MultiOutputClassifier with RandomForestClassifier)"
      ]
    },
    {
      "cell_type": "code",
      "metadata": {
        "id": "KLuoHL9xqASs"
      },
      "source": [
        "# pipeline = Pipeline([\n",
        "#         ('features', FeatureUnion([\n",
        "\n",
        "#             ('text_pipeline', Pipeline([\n",
        "#                 ('vect', CountVectorizer(tokenizer=tokenize)),\n",
        "#                 ('tfidf', TfidfTransformer())\n",
        "#             ]))\n",
        "#         ])),\n",
        "\n",
        "#         ('clf', MultiOutputClassifier(RandomForestClassifier()))\n",
        "#     ])\n",
        "\n",
        "random_forest_pipe = Pipeline([\n",
        "        ('vect', CountVectorizer(tokenizer=tokenize)),\n",
        "        ('tfidf', TfidfTransformer()),\n",
        "        ('clf', MultiOutputClassifier(RandomForestClassifier()))\n",
        "    ])\n",
        "\n",
        "random_forest_pipe.fit(X_train[\"message\"], y_train)\n",
        "y_pred = random_forest_pipe.predict(X_test[\"message\"])"
      ],
      "execution_count": 7,
      "outputs": []
    },
    {
      "cell_type": "code",
      "metadata": {
        "id": "ea7ozGZ0qASv",
        "outputId": "6582686e-dcb8-4e11-8e39-d81425843385",
        "colab": {
          "base_uri": "https://localhost:8080/"
        }
      },
      "source": [
        "results.append(print_acc(\"MultiOutputClassifier RandomForest\", random_forest_pipe, y_test, y_pred))"
      ],
      "execution_count": 8,
      "outputs": [
        {
          "output_type": "stream",
          "text": [
            "Accuracy per category MultiOutputClassifier RandomForest: \n",
            "Average accuracy: 0.9399697146986956\n",
            "related                   0.793182\n",
            "request                   0.879065\n",
            "offer                     0.995463\n",
            "aid_related               0.741869\n",
            "medical_help              0.920220\n",
            "medical_products          0.950213\n",
            "search_and_rescue         0.972095\n",
            "security                  0.982012\n",
            "military                  0.967438\n",
            "water                     0.942905\n",
            "food                      0.922629\n",
            "shelter                   0.915763\n",
            "clothing                  0.984943\n",
            "money                     0.977395\n",
            "missing_people            0.988557\n",
            "refugees                  0.967076\n",
            "death                     0.954870\n",
            "other_aid                 0.868706\n",
            "infrastructure_related    0.934755\n",
            "transport                 0.954910\n",
            "buildings                 0.950012\n",
            "electricity               0.979844\n",
            "tools                     0.993777\n",
            "hospitals                 0.988999\n",
            "shops                     0.995262\n",
            "aid_centers               0.988196\n",
            "other_infrastructure      0.956276\n",
            "weather_related           0.860756\n",
            "floods                    0.935397\n",
            "storm                     0.928371\n",
            "fire                      0.989320\n",
            "earthquake                0.948486\n",
            "cold                      0.979724\n",
            "other_weather             0.947523\n",
            "direct_report             0.842929\n",
            "dtype: float64\n"
          ],
          "name": "stdout"
        }
      ]
    },
    {
      "cell_type": "markdown",
      "metadata": {
        "id": "s1Skmc5Huqm0"
      },
      "source": [
        "# kNN"
      ]
    },
    {
      "cell_type": "code",
      "metadata": {
        "id": "0VjADMcCqASx"
      },
      "source": [
        "knn_pipe = Pipeline([\n",
        "        ('vect', CountVectorizer(tokenizer=tokenize)),\n",
        "        ('tfidf', TfidfTransformer()),\n",
        "        ('clf', KNeighborsClassifier())\n",
        "    ])\n",
        "knn_pipe.fit(X_train[\"message\"], y_train)\n",
        "y_pred_knn = knn_pipe.predict(X_test[\"message\"])"
      ],
      "execution_count": 9,
      "outputs": []
    },
    {
      "cell_type": "code",
      "metadata": {
        "id": "UbUvK8ZPu66T",
        "outputId": "526d36bb-92b5-484d-855f-d1529c22d394",
        "colab": {
          "base_uri": "https://localhost:8080/"
        }
      },
      "source": [
        "results.append(print_acc(\"kNN\", knn_pipe, y_test, y_pred_knn))"
      ],
      "execution_count": 10,
      "outputs": [
        {
          "output_type": "stream",
          "text": [
            "Accuracy per category kNN: \n",
            "Average accuracy: 0.9303656032396095\n",
            "related                   0.775395\n",
            "request                   0.852847\n",
            "offer                     0.995463\n",
            "aid_related               0.641532\n",
            "medical_help              0.920501\n",
            "medical_products          0.950373\n",
            "search_and_rescue         0.972216\n",
            "security                  0.982012\n",
            "military                  0.967438\n",
            "water                     0.939733\n",
            "food                      0.900145\n",
            "shelter                   0.913716\n",
            "clothing                  0.985626\n",
            "money                     0.977515\n",
            "missing_people            0.988557\n",
            "refugees                  0.966996\n",
            "death                     0.956035\n",
            "other_aid                 0.865976\n",
            "infrastructure_related    0.934795\n",
            "transport                 0.955192\n",
            "buildings                 0.950414\n",
            "electricity               0.980085\n",
            "tools                     0.993777\n",
            "hospitals                 0.988999\n",
            "shops                     0.995262\n",
            "aid_centers               0.988155\n",
            "other_infrastructure      0.956316\n",
            "weather_related           0.767446\n",
            "floods                    0.918373\n",
            "storm                     0.912953\n",
            "fire                      0.989360\n",
            "earthquake                0.927849\n",
            "cold                      0.979643\n",
            "other_weather             0.947483\n",
            "direct_report             0.824621\n",
            "dtype: float64\n"
          ],
          "name": "stdout"
        }
      ]
    },
    {
      "cell_type": "markdown",
      "metadata": {
        "id": "M5N0Od0AuuLn"
      },
      "source": [
        "# Decision tree\n"
      ]
    },
    {
      "cell_type": "code",
      "metadata": {
        "id": "cKw9pdNzuuvR"
      },
      "source": [
        "decision_tree_pipe = Pipeline([\n",
        "        ('vect', CountVectorizer(tokenizer=tokenize)),\n",
        "        ('tfidf', TfidfTransformer()),\n",
        "        ('clf', DecisionTreeClassifier())\n",
        "    ])\n",
        "decision_tree_pipe.fit(X_train[\"message\"], y_train)\n",
        "y_pred_decision_tree = decision_tree_pipe.predict(X_test[\"message\"])"
      ],
      "execution_count": 11,
      "outputs": []
    },
    {
      "cell_type": "code",
      "metadata": {
        "id": "q8o7h0swu-b8",
        "outputId": "3118dcdf-07d7-4fc0-b3ce-72ca55fde454",
        "colab": {
          "base_uri": "https://localhost:8080/"
        }
      },
      "source": [
        "results.append(print_acc(\"Decision Tree\", decision_tree_pipe, y_test, y_pred_decision_tree))"
      ],
      "execution_count": 12,
      "outputs": [
        {
          "output_type": "stream",
          "text": [
            "Accuracy per category Decision Tree: \n",
            "Average accuracy: 0.9243796675499878\n",
            "related                   0.744479\n",
            "request                   0.836826\n",
            "offer                     0.994740\n",
            "aid_related               0.674295\n",
            "medical_help              0.896732\n",
            "medical_products          0.927126\n",
            "search_and_rescue         0.965591\n",
            "security                  0.971252\n",
            "military                  0.961816\n",
            "water                     0.943267\n",
            "food                      0.926925\n",
            "shelter                   0.900827\n",
            "clothing                  0.982494\n",
            "money                     0.969164\n",
            "missing_people            0.984702\n",
            "refugees                  0.943066\n",
            "death                     0.946800\n",
            "other_aid                 0.822653\n",
            "infrastructure_related    0.912391\n",
            "transport                 0.941139\n",
            "buildings                 0.928571\n",
            "electricity               0.976190\n",
            "tools                     0.990324\n",
            "hospitals                 0.987433\n",
            "shops                     0.995222\n",
            "aid_centers               0.985546\n",
            "other_infrastructure      0.935156\n",
            "weather_related           0.821770\n",
            "floods                    0.930539\n",
            "storm                     0.921023\n",
            "fire                      0.986951\n",
            "earthquake                0.959929\n",
            "cold                      0.972015\n",
            "other_weather             0.930137\n",
            "direct_report             0.786196\n",
            "dtype: float64\n"
          ],
          "name": "stdout"
        }
      ]
    },
    {
      "cell_type": "markdown",
      "metadata": {
        "id": "jyxC-47wIKoO"
      },
      "source": [
        "# Random Forest"
      ]
    },
    {
      "cell_type": "code",
      "metadata": {
        "id": "Jt18UDVNISCi"
      },
      "source": [
        "random_forest_only_pipe = Pipeline([\n",
        "        ('vect', CountVectorizer(tokenizer=tokenize)),\n",
        "        ('tfidf', TfidfTransformer()),\n",
        "        ('clf', RandomForestClassifier())\n",
        "    ])\n",
        "random_forest_only_pipe.fit(X_train[\"message\"], y_train)\n",
        "y_pred_random_forest_only = random_forest_only_pipe.predict(X_test[\"message\"])"
      ],
      "execution_count": 13,
      "outputs": []
    },
    {
      "cell_type": "code",
      "metadata": {
        "id": "lILTiPA6OSmX",
        "outputId": "916967b6-e8d6-4c52-b98d-281ef1617c08",
        "colab": {
          "base_uri": "https://localhost:8080/"
        }
      },
      "source": [
        "results.append(print_acc(\"Random Forest\", random_forest_only_pipe, y_test, y_pred_random_forest_only))"
      ],
      "execution_count": 14,
      "outputs": [
        {
          "output_type": "stream",
          "text": [
            "Accuracy per category Random Forest: \n",
            "Average accuracy: 0.9397701070310077\n",
            "related                   0.805348\n",
            "request                   0.879788\n",
            "offer                     0.995463\n",
            "aid_related               0.728459\n",
            "medical_help              0.920180\n",
            "medical_products          0.950253\n",
            "search_and_rescue         0.972095\n",
            "security                  0.982012\n",
            "military                  0.967317\n",
            "water                     0.941781\n",
            "food                      0.922589\n",
            "shelter                   0.913956\n",
            "clothing                  0.985305\n",
            "money                     0.977395\n",
            "missing_people            0.988557\n",
            "refugees                  0.967076\n",
            "death                     0.954750\n",
            "other_aid                 0.868546\n",
            "infrastructure_related    0.934795\n",
            "transport                 0.954429\n",
            "buildings                 0.949370\n",
            "electricity               0.979844\n",
            "tools                     0.993777\n",
            "hospitals                 0.988999\n",
            "shops                     0.995262\n",
            "aid_centers               0.988196\n",
            "other_infrastructure      0.956276\n",
            "weather_related           0.849313\n",
            "floods                    0.938449\n",
            "storm                     0.927287\n",
            "fire                      0.989320\n",
            "earthquake                0.955392\n",
            "cold                      0.979764\n",
            "other_weather             0.947402\n",
            "direct_report             0.843210\n",
            "dtype: float64\n"
          ],
          "name": "stdout"
        }
      ]
    },
    {
      "cell_type": "code",
      "metadata": {
        "id": "NOIIBf0eR8NU",
        "outputId": "2016bfc2-c161-480a-bbcc-9c87a1191d6c",
        "colab": {
          "base_uri": "https://localhost:8080/"
        }
      },
      "source": [
        "for result in results:\n",
        "  print(result[\"name\"])\n",
        "  print(result[\"accuracy\"].mean())"
      ],
      "execution_count": 15,
      "outputs": [
        {
          "output_type": "stream",
          "text": [
            "MultiOutputClassifier RandomForest\n",
            "0.9399697146986956\n",
            "kNN\n",
            "0.9303656032396095\n",
            "Decision Tree\n",
            "0.9243796675499878\n",
            "Random Forest\n",
            "0.9397701070310077\n"
          ],
          "name": "stdout"
        }
      ]
    },
    {
      "cell_type": "markdown",
      "metadata": {
        "id": "t9ZbSLokO-ye"
      },
      "source": [
        "# Improve models using GridSearch"
      ]
    },
    {
      "cell_type": "markdown",
      "metadata": {
        "id": "0z9wmeTCSMKb"
      },
      "source": [
        "## MultiOutputClassifier + RandomForestClassifier"
      ]
    },
    {
      "cell_type": "code",
      "metadata": {
        "id": "I8RwevSxO-WI",
        "outputId": "0f505ef6-2a9d-4d5a-d1d5-84d0485ec9a4",
        "colab": {
          "base_uri": "https://localhost:8080/"
        }
      },
      "source": [
        "# Check for available parameters to optimize\n",
        "random_forest_pipe.get_params().keys()"
      ],
      "execution_count": 16,
      "outputs": [
        {
          "output_type": "execute_result",
          "data": {
            "text/plain": [
              "dict_keys(['memory', 'steps', 'verbose', 'vect', 'tfidf', 'clf', 'vect__analyzer', 'vect__binary', 'vect__decode_error', 'vect__dtype', 'vect__encoding', 'vect__input', 'vect__lowercase', 'vect__max_df', 'vect__max_features', 'vect__min_df', 'vect__ngram_range', 'vect__preprocessor', 'vect__stop_words', 'vect__strip_accents', 'vect__token_pattern', 'vect__tokenizer', 'vect__vocabulary', 'tfidf__norm', 'tfidf__smooth_idf', 'tfidf__sublinear_tf', 'tfidf__use_idf', 'clf__estimator__bootstrap', 'clf__estimator__ccp_alpha', 'clf__estimator__class_weight', 'clf__estimator__criterion', 'clf__estimator__max_depth', 'clf__estimator__max_features', 'clf__estimator__max_leaf_nodes', 'clf__estimator__max_samples', 'clf__estimator__min_impurity_decrease', 'clf__estimator__min_impurity_split', 'clf__estimator__min_samples_leaf', 'clf__estimator__min_samples_split', 'clf__estimator__min_weight_fraction_leaf', 'clf__estimator__n_estimators', 'clf__estimator__n_jobs', 'clf__estimator__oob_score', 'clf__estimator__random_state', 'clf__estimator__verbose', 'clf__estimator__warm_start', 'clf__estimator', 'clf__n_jobs'])"
            ]
          },
          "metadata": {
            "tags": []
          },
          "execution_count": 16
        }
      ]
    },
    {
      "cell_type": "code",
      "metadata": {
        "id": "gEtxLFsfPDif"
      },
      "source": [
        "parameters_mo_rf = {\n",
        "    # vect\n",
        "    # https://scikit-learn.org/stable/modules/generated/sklearn.feature_extraction.text.CountVectorizer.html\n",
        "\n",
        "    \n",
        "    # tfidf\n",
        "    # https://scikit-learn.org/stable/modules/generated/sklearn.feature_extraction.text.TfidfTransformer.html\n",
        "    'tfidf__norm' : ['l1', 'l2'],\n",
        "  #  'tfidf__use_idf' : [True, False],\n",
        "   # 'tfidf__smooth_idf': [True, False],\n",
        "   # 'tfidf__sublinear_tf' : [True, False],\n",
        "\n",
        "    # clf\n",
        "    # https://scikit-learn.org/stable/modules/generated/sklearn.ensemble.RandomForestClassifier.html\n",
        "    'clf__estimator__criterion' : ['gini', 'entropy'],\n",
        "    'clf__estimator__n_estimators': [50, 100, 150, 200],\n",
        "    'clf__estimator__max_depth' : [None, 5, 10],\n",
        "}\n",
        "\n",
        "cv_parameters_mo_rf = GridSearchCV(random_forest_pipe, param_grid=parameters_mo_rf) \n",
        "cv_parameters_mo_rf.fit(X_train[\"message\"], y_train)\n",
        "y_pred_mo_rf_cv = cv_parameters_mo_rf.predict(X_test[\"message\"])"
      ],
      "execution_count": 17,
      "outputs": []
    },
    {
      "cell_type": "code",
      "metadata": {
        "id": "lIE9fH5iXrX8",
        "outputId": "c65a85c2-7bc3-45dc-d2af-3745988dfa8e",
        "colab": {
          "base_uri": "https://localhost:8080/"
        }
      },
      "source": [
        "results.append(print_acc(\"MultiOutputClassifier Random Forest CV\", cv_parameters_mo_rf, y_test, y_pred_mo_rf_cv))"
      ],
      "execution_count": 18,
      "outputs": [
        {
          "output_type": "stream",
          "text": [
            "Accuracy per category MultiOutputClassifier Random Forest CV: \n",
            "Average accuracy: 0.9394546351424211\n",
            "related                   0.797358\n",
            "request                   0.880350\n",
            "offer                     0.995463\n",
            "aid_related               0.739420\n",
            "medical_help              0.920220\n",
            "medical_products          0.950293\n",
            "search_and_rescue         0.972095\n",
            "security                  0.982012\n",
            "military                  0.967397\n",
            "water                     0.941902\n",
            "food                      0.913234\n",
            "shelter                   0.914318\n",
            "clothing                  0.985024\n",
            "money                     0.977395\n",
            "missing_people            0.988557\n",
            "refugees                  0.967076\n",
            "death                     0.954750\n",
            "other_aid                 0.868626\n",
            "infrastructure_related    0.934755\n",
            "transport                 0.954629\n",
            "buildings                 0.949570\n",
            "electricity               0.979844\n",
            "tools                     0.993777\n",
            "hospitals                 0.988999\n",
            "shops                     0.995262\n",
            "aid_centers               0.988196\n",
            "other_infrastructure      0.956276\n",
            "weather_related           0.858227\n",
            "floods                    0.923553\n",
            "storm                     0.926002\n",
            "fire                      0.989320\n",
            "earthquake                0.956838\n",
            "cold                      0.979724\n",
            "other_weather             0.947523\n",
            "direct_report             0.842929\n",
            "dtype: float64\n"
          ],
          "name": "stdout"
        }
      ]
    },
    {
      "cell_type": "markdown",
      "metadata": {
        "id": "yC2PzZIgSTda"
      },
      "source": [
        "## kNN"
      ]
    },
    {
      "cell_type": "code",
      "metadata": {
        "id": "unz31Y-1XuO2",
        "outputId": "04074bfc-aba6-47a5-bf11-0db13229c336",
        "colab": {
          "base_uri": "https://localhost:8080/"
        }
      },
      "source": [
        "knn_pipe.get_params().keys()"
      ],
      "execution_count": 19,
      "outputs": [
        {
          "output_type": "execute_result",
          "data": {
            "text/plain": [
              "dict_keys(['memory', 'steps', 'verbose', 'vect', 'tfidf', 'clf', 'vect__analyzer', 'vect__binary', 'vect__decode_error', 'vect__dtype', 'vect__encoding', 'vect__input', 'vect__lowercase', 'vect__max_df', 'vect__max_features', 'vect__min_df', 'vect__ngram_range', 'vect__preprocessor', 'vect__stop_words', 'vect__strip_accents', 'vect__token_pattern', 'vect__tokenizer', 'vect__vocabulary', 'tfidf__norm', 'tfidf__smooth_idf', 'tfidf__sublinear_tf', 'tfidf__use_idf', 'clf__algorithm', 'clf__leaf_size', 'clf__metric', 'clf__metric_params', 'clf__n_jobs', 'clf__n_neighbors', 'clf__p', 'clf__weights'])"
            ]
          },
          "metadata": {
            "tags": []
          },
          "execution_count": 19
        }
      ]
    },
    {
      "cell_type": "code",
      "metadata": {
        "id": "qMrFqFS0XuJZ",
        "outputId": "eda65e65-896d-403b-aa40-4cbff666d9b0",
        "colab": {
          "base_uri": "https://localhost:8080/"
        }
      },
      "source": [
        "parameters_knn = {\n",
        "    # vect\n",
        "    # https://scikit-learn.org/stable/modules/generated/sklearn.feature_extraction.text.CountVectorizer.html\n",
        "\n",
        "    \n",
        "    # tfidf\n",
        "    # https://scikit-learn.org/stable/modules/generated/sklearn.feature_extraction.text.TfidfTransformer.html\n",
        "    'tfidf__norm' : ['l1', 'l2'],\n",
        "  #  'tfidf__use_idf' : [True, False],\n",
        "  #  'tfidf__smooth_idf': [True, False],\n",
        "  #  'tfidf__sublinear_tf' : [True, False],\n",
        "\n",
        "    # clf\n",
        "    # https://scikit-learn.org/stable/modules/generated/sklearn.neighbors.KNeighborsClassifier.html\n",
        "    'clf__n_neighbors' : [3, 5, 8],\n",
        "    'clf__weights' : ['uniform', 'distance'],\n",
        "    'clf__algorithm' : ['auto', 'ball_tree', 'kd_tree', 'brute'],\n",
        "\n",
        "}\n",
        "\n",
        "cv_knn = GridSearchCV(knn_pipe, param_grid=parameters_knn) \n",
        "cv_knn.fit(X_train[\"message\"], y_train)\n",
        "y_pred_knn_cv = cv_knn.predict(X_test[\"message\"])"
      ],
      "execution_count": 23,
      "outputs": [
        {
          "output_type": "stream",
          "text": [
            "/usr/local/lib/python3.7/dist-packages/sklearn/neighbors/_base.py:414: UserWarning: cannot use tree with sparse input: using brute force\n",
            "  warnings.warn(\"cannot use tree with sparse input: \"\n",
            "/usr/local/lib/python3.7/dist-packages/sklearn/neighbors/_base.py:414: UserWarning: cannot use tree with sparse input: using brute force\n",
            "  warnings.warn(\"cannot use tree with sparse input: \"\n",
            "/usr/local/lib/python3.7/dist-packages/sklearn/neighbors/_base.py:414: UserWarning: cannot use tree with sparse input: using brute force\n",
            "  warnings.warn(\"cannot use tree with sparse input: \"\n",
            "/usr/local/lib/python3.7/dist-packages/sklearn/neighbors/_base.py:414: UserWarning: cannot use tree with sparse input: using brute force\n",
            "  warnings.warn(\"cannot use tree with sparse input: \"\n",
            "/usr/local/lib/python3.7/dist-packages/sklearn/neighbors/_base.py:414: UserWarning: cannot use tree with sparse input: using brute force\n",
            "  warnings.warn(\"cannot use tree with sparse input: \"\n",
            "/usr/local/lib/python3.7/dist-packages/sklearn/neighbors/_base.py:414: UserWarning: cannot use tree with sparse input: using brute force\n",
            "  warnings.warn(\"cannot use tree with sparse input: \"\n",
            "/usr/local/lib/python3.7/dist-packages/sklearn/neighbors/_base.py:414: UserWarning: cannot use tree with sparse input: using brute force\n",
            "  warnings.warn(\"cannot use tree with sparse input: \"\n",
            "/usr/local/lib/python3.7/dist-packages/sklearn/neighbors/_base.py:414: UserWarning: cannot use tree with sparse input: using brute force\n",
            "  warnings.warn(\"cannot use tree with sparse input: \"\n",
            "/usr/local/lib/python3.7/dist-packages/sklearn/neighbors/_base.py:414: UserWarning: cannot use tree with sparse input: using brute force\n",
            "  warnings.warn(\"cannot use tree with sparse input: \"\n",
            "/usr/local/lib/python3.7/dist-packages/sklearn/neighbors/_base.py:414: UserWarning: cannot use tree with sparse input: using brute force\n",
            "  warnings.warn(\"cannot use tree with sparse input: \"\n",
            "/usr/local/lib/python3.7/dist-packages/sklearn/neighbors/_base.py:414: UserWarning: cannot use tree with sparse input: using brute force\n",
            "  warnings.warn(\"cannot use tree with sparse input: \"\n",
            "/usr/local/lib/python3.7/dist-packages/sklearn/neighbors/_base.py:414: UserWarning: cannot use tree with sparse input: using brute force\n",
            "  warnings.warn(\"cannot use tree with sparse input: \"\n",
            "/usr/local/lib/python3.7/dist-packages/sklearn/neighbors/_base.py:414: UserWarning: cannot use tree with sparse input: using brute force\n",
            "  warnings.warn(\"cannot use tree with sparse input: \"\n",
            "/usr/local/lib/python3.7/dist-packages/sklearn/neighbors/_base.py:414: UserWarning: cannot use tree with sparse input: using brute force\n",
            "  warnings.warn(\"cannot use tree with sparse input: \"\n",
            "/usr/local/lib/python3.7/dist-packages/sklearn/neighbors/_base.py:414: UserWarning: cannot use tree with sparse input: using brute force\n",
            "  warnings.warn(\"cannot use tree with sparse input: \"\n",
            "/usr/local/lib/python3.7/dist-packages/sklearn/neighbors/_base.py:414: UserWarning: cannot use tree with sparse input: using brute force\n",
            "  warnings.warn(\"cannot use tree with sparse input: \"\n",
            "/usr/local/lib/python3.7/dist-packages/sklearn/neighbors/_base.py:414: UserWarning: cannot use tree with sparse input: using brute force\n",
            "  warnings.warn(\"cannot use tree with sparse input: \"\n",
            "/usr/local/lib/python3.7/dist-packages/sklearn/neighbors/_base.py:414: UserWarning: cannot use tree with sparse input: using brute force\n",
            "  warnings.warn(\"cannot use tree with sparse input: \"\n",
            "/usr/local/lib/python3.7/dist-packages/sklearn/neighbors/_base.py:414: UserWarning: cannot use tree with sparse input: using brute force\n",
            "  warnings.warn(\"cannot use tree with sparse input: \"\n",
            "/usr/local/lib/python3.7/dist-packages/sklearn/neighbors/_base.py:414: UserWarning: cannot use tree with sparse input: using brute force\n",
            "  warnings.warn(\"cannot use tree with sparse input: \"\n",
            "/usr/local/lib/python3.7/dist-packages/sklearn/neighbors/_base.py:414: UserWarning: cannot use tree with sparse input: using brute force\n",
            "  warnings.warn(\"cannot use tree with sparse input: \"\n",
            "/usr/local/lib/python3.7/dist-packages/sklearn/neighbors/_base.py:414: UserWarning: cannot use tree with sparse input: using brute force\n",
            "  warnings.warn(\"cannot use tree with sparse input: \"\n",
            "/usr/local/lib/python3.7/dist-packages/sklearn/neighbors/_base.py:414: UserWarning: cannot use tree with sparse input: using brute force\n",
            "  warnings.warn(\"cannot use tree with sparse input: \"\n",
            "/usr/local/lib/python3.7/dist-packages/sklearn/neighbors/_base.py:414: UserWarning: cannot use tree with sparse input: using brute force\n",
            "  warnings.warn(\"cannot use tree with sparse input: \"\n",
            "/usr/local/lib/python3.7/dist-packages/sklearn/neighbors/_base.py:414: UserWarning: cannot use tree with sparse input: using brute force\n",
            "  warnings.warn(\"cannot use tree with sparse input: \"\n",
            "/usr/local/lib/python3.7/dist-packages/sklearn/neighbors/_base.py:414: UserWarning: cannot use tree with sparse input: using brute force\n",
            "  warnings.warn(\"cannot use tree with sparse input: \"\n",
            "/usr/local/lib/python3.7/dist-packages/sklearn/neighbors/_base.py:414: UserWarning: cannot use tree with sparse input: using brute force\n",
            "  warnings.warn(\"cannot use tree with sparse input: \"\n",
            "/usr/local/lib/python3.7/dist-packages/sklearn/neighbors/_base.py:414: UserWarning: cannot use tree with sparse input: using brute force\n",
            "  warnings.warn(\"cannot use tree with sparse input: \"\n",
            "/usr/local/lib/python3.7/dist-packages/sklearn/neighbors/_base.py:414: UserWarning: cannot use tree with sparse input: using brute force\n",
            "  warnings.warn(\"cannot use tree with sparse input: \"\n",
            "/usr/local/lib/python3.7/dist-packages/sklearn/neighbors/_base.py:414: UserWarning: cannot use tree with sparse input: using brute force\n",
            "  warnings.warn(\"cannot use tree with sparse input: \"\n",
            "/usr/local/lib/python3.7/dist-packages/sklearn/neighbors/_base.py:414: UserWarning: cannot use tree with sparse input: using brute force\n",
            "  warnings.warn(\"cannot use tree with sparse input: \"\n",
            "/usr/local/lib/python3.7/dist-packages/sklearn/neighbors/_base.py:414: UserWarning: cannot use tree with sparse input: using brute force\n",
            "  warnings.warn(\"cannot use tree with sparse input: \"\n",
            "/usr/local/lib/python3.7/dist-packages/sklearn/neighbors/_base.py:414: UserWarning: cannot use tree with sparse input: using brute force\n",
            "  warnings.warn(\"cannot use tree with sparse input: \"\n",
            "/usr/local/lib/python3.7/dist-packages/sklearn/neighbors/_base.py:414: UserWarning: cannot use tree with sparse input: using brute force\n",
            "  warnings.warn(\"cannot use tree with sparse input: \"\n",
            "/usr/local/lib/python3.7/dist-packages/sklearn/neighbors/_base.py:414: UserWarning: cannot use tree with sparse input: using brute force\n",
            "  warnings.warn(\"cannot use tree with sparse input: \"\n",
            "/usr/local/lib/python3.7/dist-packages/sklearn/neighbors/_base.py:414: UserWarning: cannot use tree with sparse input: using brute force\n",
            "  warnings.warn(\"cannot use tree with sparse input: \"\n",
            "/usr/local/lib/python3.7/dist-packages/sklearn/neighbors/_base.py:414: UserWarning: cannot use tree with sparse input: using brute force\n",
            "  warnings.warn(\"cannot use tree with sparse input: \"\n",
            "/usr/local/lib/python3.7/dist-packages/sklearn/neighbors/_base.py:414: UserWarning: cannot use tree with sparse input: using brute force\n",
            "  warnings.warn(\"cannot use tree with sparse input: \"\n",
            "/usr/local/lib/python3.7/dist-packages/sklearn/neighbors/_base.py:414: UserWarning: cannot use tree with sparse input: using brute force\n",
            "  warnings.warn(\"cannot use tree with sparse input: \"\n",
            "/usr/local/lib/python3.7/dist-packages/sklearn/neighbors/_base.py:414: UserWarning: cannot use tree with sparse input: using brute force\n",
            "  warnings.warn(\"cannot use tree with sparse input: \"\n",
            "/usr/local/lib/python3.7/dist-packages/sklearn/neighbors/_base.py:414: UserWarning: cannot use tree with sparse input: using brute force\n",
            "  warnings.warn(\"cannot use tree with sparse input: \"\n",
            "/usr/local/lib/python3.7/dist-packages/sklearn/neighbors/_base.py:414: UserWarning: cannot use tree with sparse input: using brute force\n",
            "  warnings.warn(\"cannot use tree with sparse input: \"\n",
            "/usr/local/lib/python3.7/dist-packages/sklearn/neighbors/_base.py:414: UserWarning: cannot use tree with sparse input: using brute force\n",
            "  warnings.warn(\"cannot use tree with sparse input: \"\n",
            "/usr/local/lib/python3.7/dist-packages/sklearn/neighbors/_base.py:414: UserWarning: cannot use tree with sparse input: using brute force\n",
            "  warnings.warn(\"cannot use tree with sparse input: \"\n",
            "/usr/local/lib/python3.7/dist-packages/sklearn/neighbors/_base.py:414: UserWarning: cannot use tree with sparse input: using brute force\n",
            "  warnings.warn(\"cannot use tree with sparse input: \"\n",
            "/usr/local/lib/python3.7/dist-packages/sklearn/neighbors/_base.py:414: UserWarning: cannot use tree with sparse input: using brute force\n",
            "  warnings.warn(\"cannot use tree with sparse input: \"\n",
            "/usr/local/lib/python3.7/dist-packages/sklearn/neighbors/_base.py:414: UserWarning: cannot use tree with sparse input: using brute force\n",
            "  warnings.warn(\"cannot use tree with sparse input: \"\n",
            "/usr/local/lib/python3.7/dist-packages/sklearn/neighbors/_base.py:414: UserWarning: cannot use tree with sparse input: using brute force\n",
            "  warnings.warn(\"cannot use tree with sparse input: \"\n",
            "/usr/local/lib/python3.7/dist-packages/sklearn/neighbors/_base.py:414: UserWarning: cannot use tree with sparse input: using brute force\n",
            "  warnings.warn(\"cannot use tree with sparse input: \"\n",
            "/usr/local/lib/python3.7/dist-packages/sklearn/neighbors/_base.py:414: UserWarning: cannot use tree with sparse input: using brute force\n",
            "  warnings.warn(\"cannot use tree with sparse input: \"\n",
            "/usr/local/lib/python3.7/dist-packages/sklearn/neighbors/_base.py:414: UserWarning: cannot use tree with sparse input: using brute force\n",
            "  warnings.warn(\"cannot use tree with sparse input: \"\n",
            "/usr/local/lib/python3.7/dist-packages/sklearn/neighbors/_base.py:414: UserWarning: cannot use tree with sparse input: using brute force\n",
            "  warnings.warn(\"cannot use tree with sparse input: \"\n",
            "/usr/local/lib/python3.7/dist-packages/sklearn/neighbors/_base.py:414: UserWarning: cannot use tree with sparse input: using brute force\n",
            "  warnings.warn(\"cannot use tree with sparse input: \"\n",
            "/usr/local/lib/python3.7/dist-packages/sklearn/neighbors/_base.py:414: UserWarning: cannot use tree with sparse input: using brute force\n",
            "  warnings.warn(\"cannot use tree with sparse input: \"\n",
            "/usr/local/lib/python3.7/dist-packages/sklearn/neighbors/_base.py:414: UserWarning: cannot use tree with sparse input: using brute force\n",
            "  warnings.warn(\"cannot use tree with sparse input: \"\n",
            "/usr/local/lib/python3.7/dist-packages/sklearn/neighbors/_base.py:414: UserWarning: cannot use tree with sparse input: using brute force\n",
            "  warnings.warn(\"cannot use tree with sparse input: \"\n",
            "/usr/local/lib/python3.7/dist-packages/sklearn/neighbors/_base.py:414: UserWarning: cannot use tree with sparse input: using brute force\n",
            "  warnings.warn(\"cannot use tree with sparse input: \"\n",
            "/usr/local/lib/python3.7/dist-packages/sklearn/neighbors/_base.py:414: UserWarning: cannot use tree with sparse input: using brute force\n",
            "  warnings.warn(\"cannot use tree with sparse input: \"\n",
            "/usr/local/lib/python3.7/dist-packages/sklearn/neighbors/_base.py:414: UserWarning: cannot use tree with sparse input: using brute force\n",
            "  warnings.warn(\"cannot use tree with sparse input: \"\n",
            "/usr/local/lib/python3.7/dist-packages/sklearn/neighbors/_base.py:414: UserWarning: cannot use tree with sparse input: using brute force\n",
            "  warnings.warn(\"cannot use tree with sparse input: \"\n",
            "/usr/local/lib/python3.7/dist-packages/sklearn/neighbors/_base.py:414: UserWarning: cannot use tree with sparse input: using brute force\n",
            "  warnings.warn(\"cannot use tree with sparse input: \"\n",
            "/usr/local/lib/python3.7/dist-packages/sklearn/neighbors/_base.py:414: UserWarning: cannot use tree with sparse input: using brute force\n",
            "  warnings.warn(\"cannot use tree with sparse input: \"\n",
            "/usr/local/lib/python3.7/dist-packages/sklearn/neighbors/_base.py:414: UserWarning: cannot use tree with sparse input: using brute force\n",
            "  warnings.warn(\"cannot use tree with sparse input: \"\n",
            "/usr/local/lib/python3.7/dist-packages/sklearn/neighbors/_base.py:414: UserWarning: cannot use tree with sparse input: using brute force\n",
            "  warnings.warn(\"cannot use tree with sparse input: \"\n",
            "/usr/local/lib/python3.7/dist-packages/sklearn/neighbors/_base.py:414: UserWarning: cannot use tree with sparse input: using brute force\n",
            "  warnings.warn(\"cannot use tree with sparse input: \"\n",
            "/usr/local/lib/python3.7/dist-packages/sklearn/neighbors/_base.py:414: UserWarning: cannot use tree with sparse input: using brute force\n",
            "  warnings.warn(\"cannot use tree with sparse input: \"\n",
            "/usr/local/lib/python3.7/dist-packages/sklearn/neighbors/_base.py:414: UserWarning: cannot use tree with sparse input: using brute force\n",
            "  warnings.warn(\"cannot use tree with sparse input: \"\n",
            "/usr/local/lib/python3.7/dist-packages/sklearn/neighbors/_base.py:414: UserWarning: cannot use tree with sparse input: using brute force\n",
            "  warnings.warn(\"cannot use tree with sparse input: \"\n",
            "/usr/local/lib/python3.7/dist-packages/sklearn/neighbors/_base.py:414: UserWarning: cannot use tree with sparse input: using brute force\n",
            "  warnings.warn(\"cannot use tree with sparse input: \"\n",
            "/usr/local/lib/python3.7/dist-packages/sklearn/neighbors/_base.py:414: UserWarning: cannot use tree with sparse input: using brute force\n",
            "  warnings.warn(\"cannot use tree with sparse input: \"\n",
            "/usr/local/lib/python3.7/dist-packages/sklearn/neighbors/_base.py:414: UserWarning: cannot use tree with sparse input: using brute force\n",
            "  warnings.warn(\"cannot use tree with sparse input: \"\n",
            "/usr/local/lib/python3.7/dist-packages/sklearn/neighbors/_base.py:414: UserWarning: cannot use tree with sparse input: using brute force\n",
            "  warnings.warn(\"cannot use tree with sparse input: \"\n",
            "/usr/local/lib/python3.7/dist-packages/sklearn/neighbors/_base.py:414: UserWarning: cannot use tree with sparse input: using brute force\n",
            "  warnings.warn(\"cannot use tree with sparse input: \"\n",
            "/usr/local/lib/python3.7/dist-packages/sklearn/neighbors/_base.py:414: UserWarning: cannot use tree with sparse input: using brute force\n",
            "  warnings.warn(\"cannot use tree with sparse input: \"\n",
            "/usr/local/lib/python3.7/dist-packages/sklearn/neighbors/_base.py:414: UserWarning: cannot use tree with sparse input: using brute force\n",
            "  warnings.warn(\"cannot use tree with sparse input: \"\n",
            "/usr/local/lib/python3.7/dist-packages/sklearn/neighbors/_base.py:414: UserWarning: cannot use tree with sparse input: using brute force\n",
            "  warnings.warn(\"cannot use tree with sparse input: \"\n",
            "/usr/local/lib/python3.7/dist-packages/sklearn/neighbors/_base.py:414: UserWarning: cannot use tree with sparse input: using brute force\n",
            "  warnings.warn(\"cannot use tree with sparse input: \"\n",
            "/usr/local/lib/python3.7/dist-packages/sklearn/neighbors/_base.py:414: UserWarning: cannot use tree with sparse input: using brute force\n",
            "  warnings.warn(\"cannot use tree with sparse input: \"\n",
            "/usr/local/lib/python3.7/dist-packages/sklearn/neighbors/_base.py:414: UserWarning: cannot use tree with sparse input: using brute force\n",
            "  warnings.warn(\"cannot use tree with sparse input: \"\n",
            "/usr/local/lib/python3.7/dist-packages/sklearn/neighbors/_base.py:414: UserWarning: cannot use tree with sparse input: using brute force\n",
            "  warnings.warn(\"cannot use tree with sparse input: \"\n",
            "/usr/local/lib/python3.7/dist-packages/sklearn/neighbors/_base.py:414: UserWarning: cannot use tree with sparse input: using brute force\n",
            "  warnings.warn(\"cannot use tree with sparse input: \"\n",
            "/usr/local/lib/python3.7/dist-packages/sklearn/neighbors/_base.py:414: UserWarning: cannot use tree with sparse input: using brute force\n",
            "  warnings.warn(\"cannot use tree with sparse input: \"\n",
            "/usr/local/lib/python3.7/dist-packages/sklearn/neighbors/_base.py:414: UserWarning: cannot use tree with sparse input: using brute force\n",
            "  warnings.warn(\"cannot use tree with sparse input: \"\n",
            "/usr/local/lib/python3.7/dist-packages/sklearn/neighbors/_base.py:414: UserWarning: cannot use tree with sparse input: using brute force\n",
            "  warnings.warn(\"cannot use tree with sparse input: \"\n",
            "/usr/local/lib/python3.7/dist-packages/sklearn/neighbors/_base.py:414: UserWarning: cannot use tree with sparse input: using brute force\n",
            "  warnings.warn(\"cannot use tree with sparse input: \"\n",
            "/usr/local/lib/python3.7/dist-packages/sklearn/neighbors/_base.py:414: UserWarning: cannot use tree with sparse input: using brute force\n",
            "  warnings.warn(\"cannot use tree with sparse input: \"\n",
            "/usr/local/lib/python3.7/dist-packages/sklearn/neighbors/_base.py:414: UserWarning: cannot use tree with sparse input: using brute force\n",
            "  warnings.warn(\"cannot use tree with sparse input: \"\n",
            "/usr/local/lib/python3.7/dist-packages/sklearn/neighbors/_base.py:414: UserWarning: cannot use tree with sparse input: using brute force\n",
            "  warnings.warn(\"cannot use tree with sparse input: \"\n",
            "/usr/local/lib/python3.7/dist-packages/sklearn/neighbors/_base.py:414: UserWarning: cannot use tree with sparse input: using brute force\n",
            "  warnings.warn(\"cannot use tree with sparse input: \"\n",
            "/usr/local/lib/python3.7/dist-packages/sklearn/neighbors/_base.py:414: UserWarning: cannot use tree with sparse input: using brute force\n",
            "  warnings.warn(\"cannot use tree with sparse input: \"\n",
            "/usr/local/lib/python3.7/dist-packages/sklearn/neighbors/_base.py:414: UserWarning: cannot use tree with sparse input: using brute force\n",
            "  warnings.warn(\"cannot use tree with sparse input: \"\n",
            "/usr/local/lib/python3.7/dist-packages/sklearn/neighbors/_base.py:414: UserWarning: cannot use tree with sparse input: using brute force\n",
            "  warnings.warn(\"cannot use tree with sparse input: \"\n",
            "/usr/local/lib/python3.7/dist-packages/sklearn/neighbors/_base.py:414: UserWarning: cannot use tree with sparse input: using brute force\n",
            "  warnings.warn(\"cannot use tree with sparse input: \"\n",
            "/usr/local/lib/python3.7/dist-packages/sklearn/neighbors/_base.py:414: UserWarning: cannot use tree with sparse input: using brute force\n",
            "  warnings.warn(\"cannot use tree with sparse input: \"\n",
            "/usr/local/lib/python3.7/dist-packages/sklearn/neighbors/_base.py:414: UserWarning: cannot use tree with sparse input: using brute force\n",
            "  warnings.warn(\"cannot use tree with sparse input: \"\n",
            "/usr/local/lib/python3.7/dist-packages/sklearn/neighbors/_base.py:414: UserWarning: cannot use tree with sparse input: using brute force\n",
            "  warnings.warn(\"cannot use tree with sparse input: \"\n",
            "/usr/local/lib/python3.7/dist-packages/sklearn/neighbors/_base.py:414: UserWarning: cannot use tree with sparse input: using brute force\n",
            "  warnings.warn(\"cannot use tree with sparse input: \"\n",
            "/usr/local/lib/python3.7/dist-packages/sklearn/neighbors/_base.py:414: UserWarning: cannot use tree with sparse input: using brute force\n",
            "  warnings.warn(\"cannot use tree with sparse input: \"\n",
            "/usr/local/lib/python3.7/dist-packages/sklearn/neighbors/_base.py:414: UserWarning: cannot use tree with sparse input: using brute force\n",
            "  warnings.warn(\"cannot use tree with sparse input: \"\n",
            "/usr/local/lib/python3.7/dist-packages/sklearn/neighbors/_base.py:414: UserWarning: cannot use tree with sparse input: using brute force\n",
            "  warnings.warn(\"cannot use tree with sparse input: \"\n",
            "/usr/local/lib/python3.7/dist-packages/sklearn/neighbors/_base.py:414: UserWarning: cannot use tree with sparse input: using brute force\n",
            "  warnings.warn(\"cannot use tree with sparse input: \"\n",
            "/usr/local/lib/python3.7/dist-packages/sklearn/neighbors/_base.py:414: UserWarning: cannot use tree with sparse input: using brute force\n",
            "  warnings.warn(\"cannot use tree with sparse input: \"\n",
            "/usr/local/lib/python3.7/dist-packages/sklearn/neighbors/_base.py:414: UserWarning: cannot use tree with sparse input: using brute force\n",
            "  warnings.warn(\"cannot use tree with sparse input: \"\n",
            "/usr/local/lib/python3.7/dist-packages/sklearn/neighbors/_base.py:414: UserWarning: cannot use tree with sparse input: using brute force\n",
            "  warnings.warn(\"cannot use tree with sparse input: \"\n",
            "/usr/local/lib/python3.7/dist-packages/sklearn/neighbors/_base.py:414: UserWarning: cannot use tree with sparse input: using brute force\n",
            "  warnings.warn(\"cannot use tree with sparse input: \"\n",
            "/usr/local/lib/python3.7/dist-packages/sklearn/neighbors/_base.py:414: UserWarning: cannot use tree with sparse input: using brute force\n",
            "  warnings.warn(\"cannot use tree with sparse input: \"\n",
            "/usr/local/lib/python3.7/dist-packages/sklearn/neighbors/_base.py:414: UserWarning: cannot use tree with sparse input: using brute force\n",
            "  warnings.warn(\"cannot use tree with sparse input: \"\n",
            "/usr/local/lib/python3.7/dist-packages/sklearn/neighbors/_base.py:414: UserWarning: cannot use tree with sparse input: using brute force\n",
            "  warnings.warn(\"cannot use tree with sparse input: \"\n",
            "/usr/local/lib/python3.7/dist-packages/sklearn/neighbors/_base.py:414: UserWarning: cannot use tree with sparse input: using brute force\n",
            "  warnings.warn(\"cannot use tree with sparse input: \"\n",
            "/usr/local/lib/python3.7/dist-packages/sklearn/neighbors/_base.py:414: UserWarning: cannot use tree with sparse input: using brute force\n",
            "  warnings.warn(\"cannot use tree with sparse input: \"\n",
            "/usr/local/lib/python3.7/dist-packages/sklearn/neighbors/_base.py:414: UserWarning: cannot use tree with sparse input: using brute force\n",
            "  warnings.warn(\"cannot use tree with sparse input: \"\n",
            "/usr/local/lib/python3.7/dist-packages/sklearn/neighbors/_base.py:414: UserWarning: cannot use tree with sparse input: using brute force\n",
            "  warnings.warn(\"cannot use tree with sparse input: \"\n",
            "/usr/local/lib/python3.7/dist-packages/sklearn/neighbors/_base.py:414: UserWarning: cannot use tree with sparse input: using brute force\n",
            "  warnings.warn(\"cannot use tree with sparse input: \"\n",
            "/usr/local/lib/python3.7/dist-packages/sklearn/neighbors/_base.py:414: UserWarning: cannot use tree with sparse input: using brute force\n",
            "  warnings.warn(\"cannot use tree with sparse input: \"\n",
            "/usr/local/lib/python3.7/dist-packages/sklearn/neighbors/_base.py:414: UserWarning: cannot use tree with sparse input: using brute force\n",
            "  warnings.warn(\"cannot use tree with sparse input: \"\n",
            "/usr/local/lib/python3.7/dist-packages/sklearn/neighbors/_base.py:414: UserWarning: cannot use tree with sparse input: using brute force\n",
            "  warnings.warn(\"cannot use tree with sparse input: \"\n",
            "/usr/local/lib/python3.7/dist-packages/sklearn/neighbors/_base.py:414: UserWarning: cannot use tree with sparse input: using brute force\n",
            "  warnings.warn(\"cannot use tree with sparse input: \"\n",
            "/usr/local/lib/python3.7/dist-packages/sklearn/neighbors/_base.py:414: UserWarning: cannot use tree with sparse input: using brute force\n",
            "  warnings.warn(\"cannot use tree with sparse input: \"\n",
            "/usr/local/lib/python3.7/dist-packages/sklearn/neighbors/_base.py:414: UserWarning: cannot use tree with sparse input: using brute force\n",
            "  warnings.warn(\"cannot use tree with sparse input: \"\n",
            "/usr/local/lib/python3.7/dist-packages/sklearn/neighbors/_base.py:414: UserWarning: cannot use tree with sparse input: using brute force\n",
            "  warnings.warn(\"cannot use tree with sparse input: \"\n"
          ],
          "name": "stderr"
        }
      ]
    },
    {
      "cell_type": "code",
      "metadata": {
        "id": "aWNJIWb6Z7Gg",
        "outputId": "faed75e0-a8dc-469a-db55-5be41a934d4f",
        "colab": {
          "base_uri": "https://localhost:8080/"
        }
      },
      "source": [
        "results.append(print_acc(\"kNN CV\", cv_knn, y_test, y_pred_mo_rf_cv))"
      ],
      "execution_count": 24,
      "outputs": [
        {
          "output_type": "stream",
          "text": [
            "Accuracy per category kNN CV: \n",
            "Average accuracy: 0.9394546351424211\n",
            "related                   0.797358\n",
            "request                   0.880350\n",
            "offer                     0.995463\n",
            "aid_related               0.739420\n",
            "medical_help              0.920220\n",
            "medical_products          0.950293\n",
            "search_and_rescue         0.972095\n",
            "security                  0.982012\n",
            "military                  0.967397\n",
            "water                     0.941902\n",
            "food                      0.913234\n",
            "shelter                   0.914318\n",
            "clothing                  0.985024\n",
            "money                     0.977395\n",
            "missing_people            0.988557\n",
            "refugees                  0.967076\n",
            "death                     0.954750\n",
            "other_aid                 0.868626\n",
            "infrastructure_related    0.934755\n",
            "transport                 0.954629\n",
            "buildings                 0.949570\n",
            "electricity               0.979844\n",
            "tools                     0.993777\n",
            "hospitals                 0.988999\n",
            "shops                     0.995262\n",
            "aid_centers               0.988196\n",
            "other_infrastructure      0.956276\n",
            "weather_related           0.858227\n",
            "floods                    0.923553\n",
            "storm                     0.926002\n",
            "fire                      0.989320\n",
            "earthquake                0.956838\n",
            "cold                      0.979724\n",
            "other_weather             0.947523\n",
            "direct_report             0.842929\n",
            "dtype: float64\n"
          ],
          "name": "stdout"
        }
      ]
    },
    {
      "cell_type": "markdown",
      "metadata": {
        "id": "jk4UwgQrSX6E"
      },
      "source": [
        "# Evaluate the results"
      ]
    },
    {
      "cell_type": "code",
      "metadata": {
        "id": "D9uUyuoWJcZz",
        "outputId": "f2de889a-2fe6-4c62-f76f-b83ed3a28d43",
        "colab": {
          "base_uri": "https://localhost:8080/"
        }
      },
      "source": [
        "for result in results:\n",
        "  print(result[\"name\"])\n",
        "  print(result[\"accuracy\"].mean())"
      ],
      "execution_count": 25,
      "outputs": [
        {
          "output_type": "stream",
          "text": [
            "MultiOutputClassifier RandomForest\n",
            "0.9399697146986956\n",
            "kNN\n",
            "0.9303656032396095\n",
            "Decision Tree\n",
            "0.9243796675499878\n",
            "Random Forest\n",
            "0.9397701070310077\n",
            "MultiOutputClassifier Random Forest CV\n",
            "0.9394546351424211\n",
            "kNN CV\n",
            "0.9394546351424211\n"
          ],
          "name": "stdout"
        }
      ]
    },
    {
      "cell_type": "markdown",
      "metadata": {
        "id": "lIg_hFQZSaMJ"
      },
      "source": [
        "As we can see, the models performed all very similar. Only the decision tree model is a bit worse compared to the other ones. Surprisingly, our unoptimized orginal model with a MultiOutpuClassfier and a RandomForestClassifier performed best. Therefore we can assume that the standard model configuration fits good to our problem and the optimization attempt only leads us away from the optimum. 94% is a quite good result so we can stick with that model."
      ]
    },
    {
      "cell_type": "code",
      "metadata": {
        "id": "pu1IyfRDJcRh"
      },
      "source": [
        "best_model = results[0]['model']"
      ],
      "execution_count": 30,
      "outputs": []
    },
    {
      "cell_type": "markdown",
      "metadata": {
        "id": "-FX0t5mtRO8-"
      },
      "source": [
        "Now that we found the best model configuration, we retrain the model with 80% of the data"
      ]
    },
    {
      "cell_type": "code",
      "metadata": {
        "id": "R87lA-AcQejZ"
      },
      "source": [
        "X_train_new, X_test_new, y_train_new, y_test_new = train_test_split(X, Y, train_size = 0.80)\n",
        "best_model.fit(X_train_new[\"message\"], y_train_new)\n",
        "y_pred_final = best_model.predict(X_test_new[\"message\"])"
      ],
      "execution_count": 34,
      "outputs": []
    },
    {
      "cell_type": "markdown",
      "metadata": {
        "id": "ZrzCQwmdqASx"
      },
      "source": [
        "### 9. Export your model as a pickle file"
      ]
    },
    {
      "cell_type": "code",
      "metadata": {
        "id": "gQCqCcQCqASy"
      },
      "source": [
        "model_params = best_model.get_params()\n",
        "model = best_model\n",
        "\n",
        "fileObj = open('model_params.obj', 'wb')\n",
        "pickle.dump(model_params,fileObj)\n",
        "fileObj.close()\n",
        "\n",
        "fileObj = open('model.obj', 'wb')\n",
        "pickle.dump(model,fileObj)\n",
        "fileObj.close()"
      ],
      "execution_count": 37,
      "outputs": []
    },
    {
      "cell_type": "markdown",
      "metadata": {
        "id": "2RFRSYRjqASy"
      },
      "source": [
        "### 10. Use this notebook to complete `train.py`\n",
        "Use the template file attached in the Resources folder to write a script that runs the steps above to create a database and export a model based on a new dataset specified by the user."
      ]
    },
    {
      "cell_type": "code",
      "metadata": {
        "id": "hAlLehW1qASy"
      },
      "source": [
        ""
      ],
      "execution_count": null,
      "outputs": []
    }
  ]
}